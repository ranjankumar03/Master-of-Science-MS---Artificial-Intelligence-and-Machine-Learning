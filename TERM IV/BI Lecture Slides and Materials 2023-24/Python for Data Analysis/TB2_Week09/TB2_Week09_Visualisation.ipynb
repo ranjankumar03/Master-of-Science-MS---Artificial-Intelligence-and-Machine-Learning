{
 "cells": [
  {
   "cell_type": "markdown",
   "id": "96032713",
   "metadata": {},
   "source": [
    "# Data Visualisation in R \n",
    "Reference:<br>\n",
    "Learning R: <br>\n",
    "\thttps://www.linkedin.com/learning/learning-r-2/\n",
    "    \n",
    "<br>\n",
    "<br>\n",
    "Bar Charts <br>\n",
    "Histograms <br>\n",
    "Box Plots <br>\n",
    "Scatterplots <br>"
   ]
  },
  {
   "cell_type": "code",
   "execution_count": null,
   "id": "101c22fa",
   "metadata": {},
   "outputs": [],
   "source": [
    "# INSTALL AND LOAD PACKAGES ################################\n",
    "\n",
    "# pacman must already be installed; then load contributed\n",
    "# packages (including pacman) with pacman\n",
    "install.packages(\"pacman\")\n",
    "library(pacman)\n",
    "library(tidyverse)"
   ]
  },
  {
   "cell_type": "code",
   "execution_count": null,
   "id": "4928c4a1",
   "metadata": {},
   "outputs": [],
   "source": [
    "# LOAD DATA ################################################\n",
    "\n",
    "# Using the diamonds dataset from ggplot2\n",
    "?diamonds  # Get information about the diamonds dataset\n",
    "diamonds   # Display the beginning of the dataset"
   ]
  },
  {
   "cell_type": "code",
   "execution_count": null,
   "id": "08374c21",
   "metadata": {},
   "outputs": [],
   "source": [
    "# PLOT #####################################################\n",
    "\n",
    "?plot     # Get info on \"Generic X-Y Plotting"
   ]
  },
  {
   "cell_type": "code",
   "execution_count": null,
   "id": "388c1fab",
   "metadata": {},
   "outputs": [],
   "source": [
    "# COLORS IN R ##############################################\n",
    "\n",
    "# Color names R has 657 color names for 502 unique colors,\n",
    "# arranged alphabetically except for white, which is first\n",
    "?colors\n",
    "colors()  # Get list of color names\n",
    "\n",
    "# Web page with R colors swatches, color names, hex codes,\n",
    "# RBG codes (in 0-255 and 0.00-1.00), and R indez numbers;\n",
    "# Browsable table on the page or in Google Sheets;\n",
    "# downloadable as XLSX or PDF\n",
    "# https://datalab.cc/rcolors"
   ]
  },
  {
   "cell_type": "markdown",
   "id": "d7982357",
   "metadata": {},
   "source": [
    "# Bar Charts"
   ]
  },
  {
   "cell_type": "code",
   "execution_count": null,
   "id": "079fe006",
   "metadata": {},
   "outputs": [],
   "source": [
    "?barplot  # Get info on the \"Bar Plots\" function"
   ]
  },
  {
   "cell_type": "code",
   "execution_count": null,
   "id": "6a264571",
   "metadata": {},
   "outputs": [],
   "source": [
    "# Shortest method to make a barplot\n",
    "plot(diamonds$cut)"
   ]
  },
  {
   "cell_type": "code",
   "execution_count": null,
   "id": "78ffaee3",
   "metadata": {},
   "outputs": [],
   "source": [
    "plot(diamonds$cut,     \n",
    "    main   = \"Cut of Diamonds\",\n",
    "    ylab   = \"Cut of Diamonds\",  \n",
    "    xlab   = \"Frequency\", \n",
    "    border = NA,  \n",
    "    col=\"#CD0000\")"
   ]
  },
  {
   "cell_type": "code",
   "execution_count": null,
   "id": "6c6b7381",
   "metadata": {},
   "outputs": [],
   "source": [
    "# Add options to plot\n",
    "diamonds %>%\n",
    "  select(clarity) %>%\n",
    "  table() %>%  # Put data in appropriate format\n",
    "  barplot(\n",
    "    main   = \"Clarity of Diamonds\",\n",
    "    sub    = \"(Source: ggplot2::diamonds)\",\n",
    "    horiz  = T,  # Draw horizontal bars\n",
    "    ylab   = \"Clarity of Diamonds\",  # Flip axis labels\n",
    "    xlab   = \"Frequency\",\n",
    "    xlim   = c(0, 15000),  # Limits for X axis\n",
    "    border = NA,  # No borders on bars\n",
    "    col    = \"#CD0000\"  # red3\n",
    "  )"
   ]
  },
  {
   "cell_type": "markdown",
   "id": "77d8b352",
   "metadata": {},
   "source": [
    "# Histograms"
   ]
  },
  {
   "cell_type": "code",
   "execution_count": null,
   "id": "c513ee00",
   "metadata": {},
   "outputs": [],
   "source": [
    "?hist"
   ]
  },
  {
   "cell_type": "code",
   "execution_count": null,
   "id": "37a8b17f",
   "metadata": {},
   "outputs": [],
   "source": [
    "# Histogram with defaults\n",
    "hist(diamonds$price)"
   ]
  },
  {
   "cell_type": "code",
   "execution_count": null,
   "id": "fdf246dd",
   "metadata": {},
   "outputs": [],
   "source": [
    "# Histogram with options\n",
    "hist(diamonds$price,\n",
    "  breaks = 7,  # Suggest number of breaks\n",
    "               # A single number giving the number of cells for the histogram,\n",
    "               # In this case, the number is a suggestion only; as the breakpoints will be set to pretty values.\n",
    "  main   = \"Histogram of Price of Diamonds\",\n",
    "  sub    = \"(Source: ggplot2::diamonds)\",\n",
    "  ylab   = \"Frequency\",\n",
    "  xlab   = \"Price of Diamonds\",\n",
    "  border = NA,  # No borders on bars\n",
    "  col    = \"#CD0000\"  # red3\n",
    "  )"
   ]
  },
  {
   "cell_type": "markdown",
   "id": "bb1603f3",
   "metadata": {},
   "source": [
    "# Box Plots"
   ]
  },
  {
   "cell_type": "code",
   "execution_count": null,
   "id": "bdb4f234",
   "metadata": {},
   "outputs": [],
   "source": [
    "?boxplot  # Get info on the \"Bar Plots\" function"
   ]
  },
  {
   "cell_type": "code",
   "execution_count": null,
   "id": "63ce2b61",
   "metadata": {},
   "outputs": [],
   "source": [
    "# Boxplot with defaults\n",
    "boxplot(diamonds$price)"
   ]
  },
  {
   "cell_type": "code",
   "execution_count": null,
   "id": "2475f811",
   "metadata": {},
   "outputs": [],
   "source": [
    "# Similar process using pipes\n",
    "diamonds %>%\n",
    "  select(price) %>%\n",
    "  boxplot()"
   ]
  },
  {
   "cell_type": "code",
   "execution_count": null,
   "id": "1c365bed",
   "metadata": {},
   "outputs": [],
   "source": [
    "# Boxplot with options\n",
    "diamonds %>%\n",
    "  select(price) %>%\n",
    "  boxplot(\n",
    "    horizontal = T,  # Horizontal\n",
    "    main   = \"Boxplot of Price of Diamonds\",\n",
    "    sub    = \"(Source: ggplot2::diamonds)\",\n",
    "    xlab   = \"Price of Diamonds\",\n",
    "    col    = \"#CD0000\"  # red3\n",
    "  )"
   ]
  },
  {
   "cell_type": "code",
   "execution_count": null,
   "id": "66845661",
   "metadata": {},
   "outputs": [],
   "source": [
    "\n",
    "# BOXPLOTS BY GROUP ########################################\n",
    "\n",
    "# Boxplots by group using boxplot()\n",
    "diamonds %>%\n",
    "  select(color, price) %>%\n",
    "  boxplot(\n",
    "    price ~ color,  # Tilde indicates formula (it means price is a function of color)\n",
    "    data  = . ,     # Dot is placeholder for pipe\n",
    "    col   = \"#CD0000\"\n",
    "  )"
   ]
  },
  {
   "cell_type": "markdown",
   "id": "38b1f05a",
   "metadata": {},
   "source": [
    "# Scatterplots"
   ]
  },
  {
   "cell_type": "code",
   "execution_count": null,
   "id": "187c4552",
   "metadata": {},
   "outputs": [],
   "source": [
    "# Bivariate scatterplot with options\n",
    "diamonds %>%\n",
    "  select(depth:price) %>% \n",
    "  plot(\n",
    "    main = \"Scatterplot of Diamonds Dataset from 'depth' to 'price'. \",\n",
    "    col  = \"green\",  # Color of points\n",
    "    pch  = 20,      # \"Plotting character\" (small circle)\n",
    "  )"
   ]
  },
  {
   "cell_type": "markdown",
   "id": "925c4a67",
   "metadata": {},
   "source": [
    "# Practical Session \n",
    "Try the different types of plots on the “Titanic” dataset. <br>\n",
    "The “Titanic” dataset is available on Moodle (TB2_Week08).\n"
   ]
  }
 ],
 "metadata": {
  "kernelspec": {
   "display_name": "R",
   "language": "R",
   "name": "ir"
  },
  "language_info": {
   "codemirror_mode": "r",
   "file_extension": ".r",
   "mimetype": "text/x-r-source",
   "name": "R",
   "pygments_lexer": "r",
   "version": "4.1.3"
  }
 },
 "nbformat": 4,
 "nbformat_minor": 5
}
