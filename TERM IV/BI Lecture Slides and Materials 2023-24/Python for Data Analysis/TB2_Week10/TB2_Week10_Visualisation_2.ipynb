{
  "cells": [
    {
      "cell_type": "markdown",
      "metadata": {
        "id": "R_61YYuqld1x"
      },
      "source": [
        "# Visualisation in R\n",
        "We will learn how to use visualisation and transformation to explore our data in a systematic way, \n",
        "a task that statisticians call exploratory data analysis, or EDA for short. EDA is an iterative cycle. \n",
        "<br>\n",
        "*Generate questions about your data.<br>\n",
        "*Search for answers by visualising, transforming, and modelling your data.<br>\n",
        "*Use what you learn to refine your questions and/or generate new questions.<br>\n"
      ]
    },
    {
      "cell_type": "markdown",
      "metadata": {
        "id": "okv3pRoVld12"
      },
      "source": [
        "Your goal during EDA is to develop an understanding of your data. The easiest way to do this is to use questions as tools to guide your investigation. \n",
        "When you ask a question,the question focuses your attention on a specific part of your dataset and helps you decide which graphs, models, or transformations to make."
      ]
    },
    {
      "cell_type": "code",
      "execution_count": null,
      "metadata": {
        "id": "A2B6tR0Xld12"
      },
      "outputs": [],
      "source": [
        "#first we need to import libraries\n",
        "# The easiest way to get ggplot2 is to install the whole tidyverse:\n",
        "\n",
        "#remove.packages(\"dplyr\")\n",
        "install.packages(\"dplyr\")\n",
        "\n",
        "#remove.packages(\"tidyverse\")\n",
        "install.packages(\"tidyverse\")\n",
        "\n",
        "library(ggplot2)\n",
        "library(dplyr)"
      ]
    },
    {
      "cell_type": "code",
      "execution_count": null,
      "metadata": {
        "id": "V83VQftLld15"
      },
      "outputs": [],
      "source": [
        "#lets check pre loaded datasets\n",
        "data()"
      ]
    },
    {
      "cell_type": "code",
      "execution_count": null,
      "metadata": {
        "id": "kMIZXqFPld16"
      },
      "outputs": [],
      "source": [
        "#in this lecture we will analyse diamonds dataset\n",
        "diamonds"
      ]
    },
    {
      "cell_type": "code",
      "execution_count": null,
      "metadata": {
        "id": "0CpSXswpld16"
      },
      "outputs": [],
      "source": [
        "#lets have a look data summary\n",
        "summary(diamonds)"
      ]
    },
    {
      "cell_type": "code",
      "execution_count": null,
      "metadata": {
        "id": "srLVHHmyld16"
      },
      "outputs": [],
      "source": [
        "sum(is.na(diamonds))#check if any missing value exists in dataset"
      ]
    },
    {
      "cell_type": "code",
      "execution_count": null,
      "metadata": {
        "id": "JrIUKSscld17"
      },
      "outputs": [],
      "source": [
        "#you can filter those missing values if there are \n",
        "na.omit(diamonds)"
      ]
    },
    {
      "cell_type": "code",
      "execution_count": null,
      "metadata": {
        "id": "NtarQyFDld17"
      },
      "outputs": [],
      "source": [
        "#in here we are showing the distribution of a categrical value for the 'cut' variable\n",
        "\n",
        "# More details related to geom_bar: https://ggplot2.tidyverse.org/reference/geom_bar.html\n",
        "\n",
        "ggplot(data = diamonds) +\n",
        "  geom_bar(mapping = aes(x = color))"
      ]
    },
    {
      "cell_type": "markdown",
      "metadata": {
        "id": "Wd94raPjld18"
      },
      "source": [
        "To examine the distribution of a continuous variable, use a histogram:"
      ]
    },
    {
      "cell_type": "code",
      "execution_count": null,
      "metadata": {
        "id": "o9UIn75old18"
      },
      "outputs": [],
      "source": [
        "ggplot(data = diamonds) +\n",
        "  geom_histogram(mapping = aes(x = price), binwidth = 1000)"
      ]
    },
    {
      "cell_type": "markdown",
      "metadata": {
        "id": "SF1bWSsyld18"
      },
      "source": [
        "bar chart, histogram shows <br>\n",
        "* Which values are the most common? Why? <br>\n",
        "* Which values are rare? Why? Does that match your expectations? <br>\n",
        "* Can you see any unusual patterns? What might explain them? <br>"
      ]
    },
    {
      "cell_type": "code",
      "execution_count": null,
      "metadata": {
        "id": "OmN-6y2uld18"
      },
      "outputs": [],
      "source": [
        "ggplot(data = diamonds, mapping = aes(x = price, y = carat)) +\n",
        "  geom_point()"
      ]
    },
    {
      "cell_type": "code",
      "execution_count": null,
      "metadata": {
        "id": "BsZRSAjbld19"
      },
      "outputs": [],
      "source": [
        "ggplot(data = diamonds, mapping = aes(x = table, y = carat)) +\n",
        "  geom_point(color=\"blue\")"
      ]
    },
    {
      "cell_type": "code",
      "execution_count": null,
      "metadata": {
        "id": "ch2gUPXFld19"
      },
      "outputs": [],
      "source": [
        " ggplot(diamonds, aes(factor(clarity), price)) +\n",
        "                   geom_boxplot(color=\"gray\") #price distribution by clarity"
      ]
    },
    {
      "cell_type": "code",
      "execution_count": null,
      "metadata": {
        "id": "eTv8Z8Ihld19"
      },
      "outputs": [],
      "source": [
        " ggplot(diamonds, aes(factor(clarity), price)) +\n",
        "                   geom_jitter(alpha=2, color=\"green\") +  # The jitter geom is a convenient shortcut for geom_point\n",
        "                   geom_boxplot(alpha=0.5)#price distribution by clarity"
      ]
    },
    {
      "cell_type": "code",
      "execution_count": null,
      "metadata": {
        "id": "E03tx7jlld1-"
      },
      "outputs": [],
      "source": [
        "#correlation between variables\n",
        "diamonds.cor = cor(diamonds)"
      ]
    },
    {
      "cell_type": "code",
      "execution_count": null,
      "metadata": {
        "id": "chOtUd6eld1-"
      },
      "outputs": [],
      "source": [
        "diamonds_numeric_columns = select_if(diamonds, is.numeric)"
      ]
    },
    {
      "cell_type": "code",
      "execution_count": null,
      "metadata": {
        "id": "gRAbh62zld1-"
      },
      "outputs": [],
      "source": [
        "diamonds_numeric_columns"
      ]
    },
    {
      "cell_type": "code",
      "execution_count": null,
      "metadata": {
        "id": "rS4LfJ2jld1-"
      },
      "outputs": [],
      "source": [
        "diamonds_correlation = cor(diamonds_numeric_columns)"
      ]
    },
    {
      "cell_type": "code",
      "execution_count": null,
      "metadata": {
        "id": "arh26pq5ld1-"
      },
      "outputs": [],
      "source": [
        "diamonds_correlation"
      ]
    },
    {
      "cell_type": "code",
      "execution_count": null,
      "metadata": {
        "id": "6ZN50caMld1_"
      },
      "outputs": [],
      "source": [
        "#we can plot correlation table \n",
        "#first we need to install corrplot package\n",
        "install.packages(\"corrplot\")\n",
        "library(corrplot)"
      ]
    },
    {
      "cell_type": "code",
      "execution_count": null,
      "metadata": {
        "id": "Da4iDkPnld1_"
      },
      "outputs": [],
      "source": [
        "corrplot(diamonds_correlation)"
      ]
    },
    {
      "cell_type": "raw",
      "metadata": {
        "id": "4pkxql0_ld1_"
      },
      "source": [
        "References:\n",
        "R for Data Science\n",
        "Garrett Grolemund\n",
        "Hadley Wickham"
      ]
    },
    {
      "cell_type": "code",
      "execution_count": null,
      "metadata": {
        "id": "juYdWOzald1_"
      },
      "outputs": [],
      "source": []
    }
  ],
  "metadata": {
    "kernelspec": {
      "display_name": "R",
      "language": "R",
      "name": "ir"
    },
    "language_info": {
      "codemirror_mode": "r",
      "file_extension": ".r",
      "mimetype": "text/x-r-source",
      "name": "R",
      "pygments_lexer": "r",
      "version": "4.1.3"
    },
    "colab": {
      "provenance": []
    }
  },
  "nbformat": 4,
  "nbformat_minor": 0
}