{
 "cells": [
  {
   "cell_type": "markdown",
   "id": "cbd6e6c4",
   "metadata": {},
   "source": [
    "# How to Perform K-Means Clustering in Python\n",
    "Here, you’ll take a step-by-step tour of the conventional version of the k-means algorithm. Understanding the details of the algorithm is a fundamental step in the process of writing your k-means clustering model in Python. "
   ]
  },
  {
   "cell_type": "markdown",
   "id": "0e773f84",
   "metadata": {},
   "source": [
    "# Understanding the K-Means Algorithm\n",
    "K-means requires only a few steps. The first step is to randomly select k centroids, where k is equal to the number of clusters you choose. Centroids are data points representing the center of a cluster.\n",
    "\n",
    "The main element of the algorithm works by a two-step process called **expectation-maximization**. \n",
    "<br>\n",
    "The **expectation** step assigns each data point to its nearest centroid. \n",
    "<br>\n",
    "Then, the **maximization** step computes the mean of all the points for each cluster and sets the new centroid."
   ]
  },
  {
   "cell_type": "markdown",
   "id": "b9fba125",
   "metadata": {},
   "source": [
    "# Clustering Evaluation\n",
    "The quality of the cluster assignments is determined by computing the **sum of the squared error (SSE)** after the centroids converge, or match the previous iteration’s assignment. \n",
    "<br>\n",
    "The SSE is defined as the sum of the squared Euclidean distances of each point to its closest centroid. \n",
    "<br>\n",
    "Since this is a measure of error, the **objective of k-means is to try to minimize this value**."
   ]
  },
  {
   "cell_type": "markdown",
   "id": "9508bc08",
   "metadata": {},
   "source": [
    "# K-means Example\n",
    "**First step:**\n",
    "<br>\n",
    "Generate the data using make_blobs(), a convenience function in scikit-learn used to generate synthetic clusters. \n",
    "<br>\n",
    "make_blobs() uses these parameters:\n",
    "<br>\n",
    "n_samples is the total number of samples to generate.\n",
    "<br>\n",
    "centers is the number of centers to generate.\n",
    "<br>\n",
    "cluster_std is the standard deviation.\n",
    "\n",
    "\n",
    "**Keep in mind that you can use any other dataset for clustering.\n",
    "<br>\n",
    "In this example, we generate our data.**\n"
   ]
  },
  {
   "cell_type": "code",
   "execution_count": 1,
   "id": "b6c0e431",
   "metadata": {},
   "outputs": [],
   "source": [
    "from sklearn.datasets import make_blobs\n",
    "features, true_labels = make_blobs(n_samples=200, \n",
    "                                   centers=3, \n",
    "                                   cluster_std=2.75)"
   ]
  },
  {
   "cell_type": "markdown",
   "id": "dba9fcd2",
   "metadata": {},
   "source": [
    "Prepare data for clustering:\n",
    "<br>\n",
    "Standardization scales, or shifts, the values for each numerical feature in your dataset so that the features have a mean of 0 and standard deviation of 1."
   ]
  },
  {
   "cell_type": "code",
   "execution_count": 2,
   "id": "0da0e8d7",
   "metadata": {},
   "outputs": [
    {
     "data": {
      "text/plain": [
       "array([[ 0.50061548,  0.45926973],\n",
       "       [-0.49885037, -1.20154105],\n",
       "       [ 0.41958518, -0.19574834],\n",
       "       [-1.65087195, -0.74467391],\n",
       "       [-0.93807273, -1.00750175]])"
      ]
     },
     "execution_count": 2,
     "metadata": {},
     "output_type": "execute_result"
    }
   ],
   "source": [
    "from sklearn.preprocessing import StandardScaler\n",
    "scaler = StandardScaler()\n",
    "scaled_features = scaler.fit_transform(features)\n",
    "# Print the first five rows\n",
    "scaled_features[:5]"
   ]
  },
  {
   "cell_type": "markdown",
   "id": "64e6f746",
   "metadata": {},
   "source": [
    "**Second step:**\n",
    "<br>\n",
    "The **KMeans estimator class in scikit-learn** is where you set the algorithm parameters before fitting the estimator to the data. The scikit-learn implementation is flexible, providing several parameters that can be tuned.\n",
    "<br>\n",
    "Here are the parameters used in this example:\n",
    "<br>\n",
    "- init controls the initialization technique. The standard version of the k-means algorithm is implemented by setting init to \"random\". Setting this to \"k-means++\" employs an advanced trick to speed up convergence, which you’ll use later.\n",
    "<br>\n",
    "- n_clusters sets k for the clustering step. This is the most important parameter for k-means.\n",
    "<br>\n",
    "- n_init sets the number of initializations to perform. This is important because two runs can converge on different cluster assignments. The default behavior for the scikit-learn algorithm is to perform ten k-means runs and return the results of the one with the lowest SSE.\n",
    "<br>\n",
    "- max_iter sets the number of maximum iterations for each initialization of the k-means algorithm.\n",
    "\n",
    "\n",
    "Instantiate the KMeans class with the following arguments:"
   ]
  },
  {
   "cell_type": "code",
   "execution_count": 3,
   "id": "65d9e9c4",
   "metadata": {},
   "outputs": [],
   "source": [
    "from sklearn.cluster import KMeans\n",
    "\n",
    "kmeans = KMeans(init=\"random\", \n",
    "                n_clusters=3, \n",
    "                n_init=10, \n",
    "                max_iter=300, \n",
    "                random_state=42)"
   ]
  },
  {
   "cell_type": "markdown",
   "id": "13f6a5c7",
   "metadata": {},
   "source": [
    "**Third step:**\n",
    "<br>\n",
    "Now that the k-means class is ready, the next step is to fit it to the data in scaled_features. \n",
    "<br>\n",
    "This will perform ten runs of the k-means algorithm on your data with a maximum of 300 iterations per run:"
   ]
  },
  {
   "cell_type": "code",
   "execution_count": 4,
   "id": "0088083f",
   "metadata": {},
   "outputs": [
    {
     "data": {
      "text/plain": [
       "KMeans(init='random', n_clusters=3, random_state=42)"
      ]
     },
     "execution_count": 4,
     "metadata": {},
     "output_type": "execute_result"
    }
   ],
   "source": [
    "kmeans.fit(scaled_features)"
   ]
  },
  {
   "cell_type": "code",
   "execution_count": 5,
   "id": "5f4dc512",
   "metadata": {},
   "outputs": [
    {
     "data": {
      "text/plain": [
       "167.87182245187537"
      ]
     },
     "execution_count": 5,
     "metadata": {},
     "output_type": "execute_result"
    }
   ],
   "source": [
    "# The lowest SSE value\n",
    "kmeans.inertia_"
   ]
  },
  {
   "cell_type": "code",
   "execution_count": 6,
   "id": "2b393f9e",
   "metadata": {},
   "outputs": [
    {
     "data": {
      "text/plain": [
       "array([[-0.13080457,  1.07293175],\n",
       "       [-0.82557879, -0.79549786],\n",
       "       [ 0.99114654,  0.07691387]])"
      ]
     },
     "execution_count": 6,
     "metadata": {},
     "output_type": "execute_result"
    }
   ],
   "source": [
    "# Final locations of the centroid\n",
    "kmeans.cluster_centers_"
   ]
  },
  {
   "cell_type": "code",
   "execution_count": 7,
   "id": "4c52d490",
   "metadata": {},
   "outputs": [
    {
     "data": {
      "text/plain": [
       "6"
      ]
     },
     "execution_count": 7,
     "metadata": {},
     "output_type": "execute_result"
    }
   ],
   "source": [
    "# The number of iterations required to converge\n",
    "kmeans.n_iter_"
   ]
  },
  {
   "attachments": {},
   "cell_type": "markdown",
   "id": "566d1605",
   "metadata": {},
   "source": [
    "# Practical Exercise\n",
    "Read more details related to k-means and its parameters in the following link:\n",
    "<br>\n",
    "https://scikit-learn.org/stable/modules/generated/sklearn.cluster.KMeans.html\n",
    "<br>\n",
    "Build some other clustering k-means models. \n",
    "<br>\n",
    "Try different parameters for these models and compare them together."
   ]
  },
  {
   "cell_type": "code",
   "execution_count": null,
   "id": "79cf27c0",
   "metadata": {},
   "outputs": [],
   "source": []
  },
  {
   "cell_type": "code",
   "execution_count": null,
   "id": "c45fa00a",
   "metadata": {},
   "outputs": [],
   "source": []
  },
  {
   "cell_type": "code",
   "execution_count": null,
   "id": "c0ec0f73",
   "metadata": {},
   "outputs": [],
   "source": []
  }
 ],
 "metadata": {
  "kernelspec": {
   "display_name": "Python 3",
   "language": "python",
   "name": "python3"
  },
  "language_info": {
   "codemirror_mode": {
    "name": "ipython",
    "version": 3
   },
   "file_extension": ".py",
   "mimetype": "text/x-python",
   "name": "python",
   "nbconvert_exporter": "python",
   "pygments_lexer": "ipython3",
   "version": "3.8.8"
  }
 },
 "nbformat": 4,
 "nbformat_minor": 5
}
