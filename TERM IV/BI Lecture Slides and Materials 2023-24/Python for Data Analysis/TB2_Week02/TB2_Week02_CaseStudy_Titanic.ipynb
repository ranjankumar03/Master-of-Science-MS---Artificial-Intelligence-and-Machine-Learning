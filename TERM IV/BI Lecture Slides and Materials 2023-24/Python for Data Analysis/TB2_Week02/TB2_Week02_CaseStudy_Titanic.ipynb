{
 "cells": [
  {
   "cell_type": "markdown",
   "id": "12eb8e84",
   "metadata": {},
   "source": [
    "# Kaggle Machine Learning Competition: Predicting Titanic Survivors\n",
    "\n",
    "Kaggle URL: https://www.kaggle.com/c/titanic\n",
    "<br>\n",
    "URL: https://github.com/donnemartin/data-science-ipython-notebooks/blob/master/kaggle/titanic.ipynb\n"
   ]
  },
  {
   "cell_type": "markdown",
   "id": "89eb7013",
   "metadata": {},
   "source": [
    "# Important note:\n",
    "<br>\n",
    "The first section of this notebook file contains a summary of our Titanic case study.\n",
    "<br>\n",
    "This section contains only the code needed to prepare the data for modeling.\n",
    "<br>\n",
    "Refer to the last week of the previous teaching block (TB1/Data Management module) to remind more details of our Titanic case study."
   ]
  },
  {
   "cell_type": "markdown",
   "id": "f8ea34d1",
   "metadata": {},
   "source": [
    "# Preparing Data for Modeling\n",
    "<br>\n",
    "After running the following code cell your data will be prepared for modeling. \n",
    "<br>\n",
    "You can find these commands descriptions in the last week of the previous teaching block (Week11_CaseStudy_Titanic.ipynb file).\n",
    "<br>\n",
    "RUN THE FOLLOWING CELL.\n",
    "<br>\n",
    "THEN YOUR DATA IS READY FOR MODELING.\n",
    "<br>\n",
    "You can use these variables to train and test your models:\n",
    "<br>\n",
    "train_x\n",
    "<br>\n",
    "test_x\n",
    "<br>\n",
    "train_y\n",
    "<br>\n",
    "test_y"
   ]
  },
  {
   "cell_type": "code",
   "execution_count": 1,
   "id": "0d27ce2b",
   "metadata": {},
   "outputs": [
    {
     "name": "stdout",
     "output_type": "stream",
     "text": [
      "(891, 8) (891,)\n",
      "(712, 8) (712,)\n",
      "(179, 8) (179,)\n"
     ]
    }
   ],
   "source": [
    "import pandas as pd\n",
    "import numpy as np\n",
    "\n",
    "df_train = pd.read_csv('TB2_Week02_titanic_train.csv')\n",
    "\n",
    "# Sex\n",
    "sexes = sorted(df_train['Sex'].unique())\n",
    "genders_mapping = dict(zip(sexes, range(0, len(sexes) + 1)))\n",
    "df_train['Sex_Val'] = df_train['Sex'].map(genders_mapping).astype(int)\n",
    "\n",
    "# Embarked\n",
    "df_train['Embarked_nonull'] = df_train[['Embarked']].replace(np.nan,'nan')\n",
    "embarked_locs = sorted(df_train['Embarked_nonull'].unique())\n",
    "embarked_locs_mapping = dict(zip(embarked_locs, range(0, len(embarked_locs) + 1)))\n",
    "df_train['Embarked_Val'] = df_train['Embarked_nonull'] \\\n",
    "                               .map(embarked_locs_mapping) \\\n",
    "                               .astype(int)\n",
    "df_train['Embarked'] = df_train[['Embarked_nonull']].replace('nan','S')\n",
    "df_train['Embarked_Val'] = df_train[['Embarked_Val']].replace(3,2)\n",
    "embarked_locs = sorted(df_train['Embarked_Val'].unique())\n",
    "df_train = pd.concat([df_train, pd.get_dummies(df_train['Embarked_Val'], prefix='Embarked_Val')], axis=1)\n",
    "\n",
    "# Age\n",
    "df_train['AgeFill'] = df_train['Age']\n",
    "df_train['AgeFill'] = df_train['AgeFill'] \\\n",
    "                        .groupby([df_train['Sex_Val'], df_train['Pclass']]) \\\n",
    "                        .apply(lambda x: x.fillna(x.median()))\n",
    "\n",
    "# Family Size\n",
    "df_train['FamilySize'] = df_train['SibSp'] + df_train['Parch']\n",
    "\n",
    "# Data Preparation\n",
    "df_train = df_train.drop(['Name', 'Sex', 'Ticket', 'Cabin', 'Embarked'], axis=1)\n",
    "df_train = df_train.drop(['Age', 'SibSp', 'Parch', 'PassengerId', 'Embarked_Val', 'Embarked_nonull'], axis=1)\n",
    "train_data = df_train.values\n",
    "\n",
    "# Train and Test Sets\n",
    "from sklearn.model_selection import train_test_split\n",
    "train_features = train_data[:, 1:]\n",
    "# 'Survived' column values\n",
    "train_target = train_data[:, 0]\n",
    "# Split 80-20 train vs test data\n",
    "train_x, test_x, train_y, test_y = train_test_split(train_features, \n",
    "                                                    train_target, \n",
    "                                                    test_size=0.20, \n",
    "                                                    random_state=0)\n",
    "\n",
    "print (train_features.shape, train_target.shape)\n",
    "print (train_x.shape, train_y.shape)\n",
    "print (test_x.shape, test_y.shape)"
   ]
  },
  {
   "cell_type": "markdown",
   "id": "f8ff2499",
   "metadata": {},
   "source": [
    "# K-Nearest Neighbor: Training and Evaluate Model\n",
    "Go to the following link and read more about this algorithm and its parameters; then build some models and evaluate them using different evaluation measures (like the example).\n",
    "<br>\n",
    "URL: https://scikit-learn.org/stable/modules/generated/sklearn.neighbors.KNeighborsClassifier.html"
   ]
  },
  {
   "cell_type": "code",
   "execution_count": 2,
   "id": "beee8b6d",
   "metadata": {},
   "outputs": [],
   "source": [
    "from sklearn.neighbors import KNeighborsClassifier\n",
    "from sklearn import metrics"
   ]
  },
  {
   "cell_type": "code",
   "execution_count": 3,
   "id": "0a0e24e7",
   "metadata": {},
   "outputs": [
    {
     "name": "stdout",
     "output_type": "stream",
     "text": [
      "Accuracy = 0.74\n"
     ]
    }
   ],
   "source": [
    "# Example:\n",
    "\n",
    "clf = KNeighborsClassifier(n_neighbors=5, weights='distance')\n",
    "\n",
    "clf = clf.fit(train_x, train_y)\n",
    "predict_y = clf.predict(test_x)\n",
    "\n",
    "# Evaluation measures\n",
    "print (\"Accuracy = %.2f\" % metrics.accuracy_score(test_y, predict_y))"
   ]
  },
  {
   "cell_type": "code",
   "execution_count": null,
   "id": "c644075b",
   "metadata": {},
   "outputs": [],
   "source": []
  },
  {
   "cell_type": "markdown",
   "id": "59e1e099",
   "metadata": {},
   "source": [
    "# Decision Tree: Training and Evaluate Model\n",
    "Go to the following link and read more about this algorithm and its parameters; then build some models and evaluate them using different evaluation measures (like the example).\n",
    "<br>\n",
    "URL: https://scikit-learn.org/stable/modules/tree.html"
   ]
  },
  {
   "cell_type": "code",
   "execution_count": 4,
   "id": "ac28061e",
   "metadata": {},
   "outputs": [],
   "source": [
    "from sklearn import tree\n",
    "from sklearn import metrics"
   ]
  },
  {
   "cell_type": "code",
   "execution_count": 5,
   "id": "95e1182d",
   "metadata": {},
   "outputs": [
    {
     "name": "stdout",
     "output_type": "stream",
     "text": [
      "Accuracy = 0.80\n"
     ]
    }
   ],
   "source": [
    "# Example:\n",
    "\n",
    "clf = tree.DecisionTreeClassifier() \n",
    "\n",
    "clf = clf.fit(train_x, train_y)\n",
    "predict_y = clf.predict(test_x)\n",
    "\n",
    "# Evaluation measures\n",
    "print (\"Accuracy = %.2f\" % metrics.accuracy_score(test_y, predict_y))"
   ]
  },
  {
   "cell_type": "code",
   "execution_count": 6,
   "id": "f6012f9f",
   "metadata": {},
   "outputs": [],
   "source": [
    "# Build your first DT model and evaluate it\n"
   ]
  },
  {
   "cell_type": "code",
   "execution_count": 7,
   "id": "fcfd9ad6",
   "metadata": {},
   "outputs": [],
   "source": [
    "# Build your second DT model and evaluate it\n"
   ]
  },
  {
   "cell_type": "code",
   "execution_count": 8,
   "id": "a019919e",
   "metadata": {},
   "outputs": [],
   "source": [
    "# Build your third DT model and evaluate it\n"
   ]
  },
  {
   "cell_type": "markdown",
   "id": "94599e50",
   "metadata": {},
   "source": [
    "# Random Forest: Training and Evaluate Model\n",
    "Go to the following link and read more about this algorithm and its parameters; then build some models and evaluate them using different evaluation measures (like the example).\n",
    "<br>\n",
    "URL: https://scikit-learn.org/stable/modules/generated/sklearn.ensemble.RandomForestClassifier"
   ]
  },
  {
   "cell_type": "code",
   "execution_count": 9,
   "id": "283cbb25",
   "metadata": {},
   "outputs": [],
   "source": [
    "from sklearn.ensemble import RandomForestClassifier\n",
    "from sklearn import metrics"
   ]
  },
  {
   "cell_type": "code",
   "execution_count": 10,
   "id": "b2728302",
   "metadata": {},
   "outputs": [
    {
     "name": "stdout",
     "output_type": "stream",
     "text": [
      "Accuracy = 0.83\n"
     ]
    }
   ],
   "source": [
    "# Example:\n",
    "\n",
    "clf = RandomForestClassifier(n_estimators=100)\n",
    "\n",
    "clf = clf.fit(train_x, train_y)\n",
    "predict_y = clf.predict(test_x)\n",
    "\n",
    "# Evaluation measures\n",
    "print (\"Accuracy = %.2f\" % metrics.accuracy_score(test_y, predict_y))"
   ]
  },
  {
   "cell_type": "code",
   "execution_count": 11,
   "id": "47eddefc",
   "metadata": {},
   "outputs": [],
   "source": [
    "# Build your first Random Forest model and evaluate it\n"
   ]
  },
  {
   "cell_type": "code",
   "execution_count": 12,
   "id": "47c60125",
   "metadata": {},
   "outputs": [],
   "source": [
    "# Build your second Random Forest model and evaluate it\n"
   ]
  },
  {
   "cell_type": "code",
   "execution_count": 13,
   "id": "e5c63403",
   "metadata": {},
   "outputs": [],
   "source": [
    "# Build your third Random Forest model and evaluate it\n"
   ]
  }
 ],
 "metadata": {
  "kernelspec": {
   "display_name": "Python 3",
   "language": "python",
   "name": "python3"
  },
  "language_info": {
   "codemirror_mode": {
    "name": "ipython",
    "version": 3
   },
   "file_extension": ".py",
   "mimetype": "text/x-python",
   "name": "python",
   "nbconvert_exporter": "python",
   "pygments_lexer": "ipython3",
   "version": "3.8.8"
  }
 },
 "nbformat": 4,
 "nbformat_minor": 5
}
