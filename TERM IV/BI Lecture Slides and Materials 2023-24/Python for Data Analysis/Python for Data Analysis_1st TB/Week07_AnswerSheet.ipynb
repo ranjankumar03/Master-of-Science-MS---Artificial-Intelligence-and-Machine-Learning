{
 "cells": [
  {
   "cell_type": "markdown",
   "id": "99a0ef74",
   "metadata": {},
   "source": [
    "# 101 Pandas Exercises for Data Analysis\n",
    "You can find 101 Exercises and their solutions in the following link:\n",
    "\n",
    "\n",
    "https://www.machinelearningplus.com/python/101-pandas-exercises-python/"
   ]
  },
  {
   "cell_type": "code",
   "execution_count": null,
   "id": "76571411",
   "metadata": {},
   "outputs": [],
   "source": [
    "import numpy as np\n",
    "import pandas as pd"
   ]
  },
  {
   "cell_type": "code",
   "execution_count": null,
   "id": "22e368d6",
   "metadata": {},
   "outputs": [],
   "source": [
    "# Q1: How to count the number of missing values in each column?\n",
    "# Count the number of missing values in each column of df. Which column has the maximum number of missing values?\n",
    "\n",
    "# Input\n",
    "df = pd.read_csv('https://raw.githubusercontent.com/selva86/datasets/master/Cars93_miss.csv')\n",
    "\n",
    "# Solution\n",
    "n_missings_each_col = df.apply(lambda x: x.isnull().sum())\n",
    "n_missings_each_col.argmax()"
   ]
  },
  {
   "cell_type": "code",
   "execution_count": null,
   "id": "77f0dd51",
   "metadata": {},
   "outputs": [],
   "source": [
    "# Q2: How to replace missing values of multiple numeric columns with the mean?\n",
    "# Replace missing values in Min.Price and Max.Price columns with their respective mean. \n",
    "\n",
    "# Input\n",
    "df = pd.read_csv('https://raw.githubusercontent.com/selva86/datasets/master/Cars93_miss.csv')\n",
    "\n",
    "# Solution\n",
    "df_out = df[['Min.Price', 'Max.Price']] = df[['Min.Price', 'Max.Price']].apply(lambda x: x.fillna(x.mean()))\n",
    "print(df_out.head())"
   ]
  },
  {
   "cell_type": "code",
   "execution_count": null,
   "id": "b88413ac",
   "metadata": {},
   "outputs": [],
   "source": [
    "# Q3: How to replace missing spaces in a string with the least frequent character?\n",
    "# Replace the spaces in my_str with the least frequent character.\n",
    "\n",
    "# Input\n",
    "my_str = 'dbc deb abed gade'\n",
    "\n",
    "# Solution\n",
    "ser = pd.Series(list('dbc deb abed gade'))\n",
    "freq = ser.value_counts()\n",
    "print(freq)\n",
    "least_freq = freq.dropna().index[-1]\n",
    "\"\".join(ser.replace(' ', least_freq))"
   ]
  },
  {
   "cell_type": "code",
   "execution_count": null,
   "id": "214bbda3",
   "metadata": {},
   "outputs": [],
   "source": [
    "# Q4: How to import only every nth row from a csv file to create a dataframe?\n",
    "# Import every 50th row of BostonHousing dataset as a dataframe. \n",
    "# https://raw.githubusercontent.com/selva86/datasets/master/BostonHousing.csv \n",
    "\n",
    "# Solution 1: Use chunks and for-loop\n",
    "df = pd.read_csv('https://raw.githubusercontent.com/selva86/datasets/master/BostonHousing.csv', chunksize=50)\n",
    "df2 = pd.DataFrame()\n",
    "for chunk in df:\n",
    "    df2 = df2.append(chunk.iloc[0,:])\n",
    "\n",
    "\n",
    "# Solution 2: Use chunks and list comprehension\n",
    "df = pd.read_csv('https://raw.githubusercontent.com/selva86/datasets/master/BostonHousing.csv', chunksize=50)\n",
    "df2 = pd.concat([chunk.iloc[0] for chunk in df], axis=1)\n",
    "df2 = df2.transpose()\n",
    "\n",
    "print(df2.head())\n"
   ]
  },
  {
   "cell_type": "code",
   "execution_count": null,
   "id": "1560fb45",
   "metadata": {},
   "outputs": [],
   "source": [
    "# Q5: How to create one-hot encodings of a categorical variable (dummy variables)?\n",
    "# Get one-hot encodings for column 'a' in the dataframe df and append it as columns. \n",
    "\n",
    "# Input\n",
    "df = pd.DataFrame(np.arange(25).reshape(5,-1), columns=list('abcde'))\n",
    "\n",
    "# Solution\n",
    "df_onehot = pd.concat([pd.get_dummies(df['a']), df[list('bcde')]], axis=1)\n",
    "print(df_onehot)"
   ]
  },
  {
   "cell_type": "code",
   "execution_count": null,
   "id": "c24a84cc",
   "metadata": {},
   "outputs": [],
   "source": [
    "# Q6: How to normalize all columns in a dataframe? \n",
    "# 1. Normalize all columns of df by subtracting the column mean and divide by standard deviation.\n",
    "# 2. Range all columns of df such that the minimum value in each column is 0 and max is 1.\n",
    "\n",
    "# Input\n",
    "df = pd.DataFrame(np.random.randint(1,100, 80).reshape(8, -1))\n",
    "\n",
    "# Solution Q1\n",
    "out1 = df.apply(lambda x: ((x - x.mean())/x.std()).round(2))\n",
    "print('Solution Q1\\n',out1)\n",
    "\n",
    "# Solution Q2\n",
    "out2 = df.apply(lambda x: ((x.max() - x)/(x.max() - x.min())).round(2))\n",
    "print('Solution Q2\\n', out2)  "
   ]
  },
  {
   "cell_type": "code",
   "execution_count": null,
   "id": "3deff1e7",
   "metadata": {},
   "outputs": [],
   "source": []
  }
 ],
 "metadata": {
  "kernelspec": {
   "display_name": "Python 3",
   "language": "python",
   "name": "python3"
  },
  "language_info": {
   "codemirror_mode": {
    "name": "ipython",
    "version": 3
   },
   "file_extension": ".py",
   "mimetype": "text/x-python",
   "name": "python",
   "nbconvert_exporter": "python",
   "pygments_lexer": "ipython3",
   "version": "3.8.8"
  }
 },
 "nbformat": 4,
 "nbformat_minor": 5
}
