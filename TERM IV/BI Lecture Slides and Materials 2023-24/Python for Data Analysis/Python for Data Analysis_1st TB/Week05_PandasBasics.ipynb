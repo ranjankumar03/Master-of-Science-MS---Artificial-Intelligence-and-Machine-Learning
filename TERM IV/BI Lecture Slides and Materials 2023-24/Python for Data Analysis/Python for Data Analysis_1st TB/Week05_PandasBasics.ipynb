{
 "cells": [
  {
   "cell_type": "code",
   "execution_count": null,
   "id": "650b3180",
   "metadata": {},
   "outputs": [],
   "source": [
    "import pandas as pd \n",
    "data = pd.read_csv('iris.csv')"
   ]
  },
  {
   "cell_type": "code",
   "execution_count": null,
   "id": "92ed7277",
   "metadata": {},
   "outputs": [],
   "source": [
    "# In sample() function, it will also display the rows according to arguments given,\n",
    "# but it will display the rows randomly.\n",
    "data.sample(10)"
   ]
  },
  {
   "cell_type": "code",
   "execution_count": null,
   "id": "2c462464",
   "metadata": {},
   "outputs": [],
   "source": [
    "# The column() function prints all the columns of the dataset in a list form.\n",
    "data.columns"
   ]
  },
  {
   "cell_type": "code",
   "execution_count": null,
   "id": "eded31fa",
   "metadata": {},
   "outputs": [],
   "source": [
    "# The shape of the dataset means to print the total number of rows or entries and \n",
    "# the total number of columns or features of that particular dataset.\n",
    "#The first one is the number of rows and\n",
    "# the other one is the number of columns.\n",
    "data.shape"
   ]
  },
  {
   "cell_type": "code",
   "execution_count": null,
   "id": "d5468c79",
   "metadata": {},
   "outputs": [],
   "source": [
    "print(data)"
   ]
  },
  {
   "cell_type": "code",
   "execution_count": null,
   "id": "35487131",
   "metadata": {},
   "outputs": [],
   "source": [
    "# Slicing means if you want to print or work upon a particular group of lines that is from 10th row to 20th row.\n",
    "#data[start:end]\n",
    "#start is inclusive whereas end is exclusive\n",
    "print(data[10:21])\n",
    "# it will print the rows from 10 to 20.\n",
    "\n",
    "# you can also save it in a variable for further use in analysis\n",
    "sliced_data=data[10:21]\n",
    "print(sliced_data)"
   ]
  },
  {
   "cell_type": "code",
   "execution_count": null,
   "id": "9ead46c1",
   "metadata": {},
   "outputs": [],
   "source": [
    "# In any dataset, it is sometimes needed to work upon \n",
    "# only specific features or columns, so we can do this by the following code.\n",
    "\n",
    "#here in the case of Iris dataset\n",
    "#we will save it in a another variable named \"specific_data\"\n",
    "specific_data=data[[\"sepal.length\",\"variety\"]]\n",
    "#data[[\"column_name1\",\"column_name2\",\"column_name3\"]]\n",
    "\n",
    "#now we will print the first 10 columns of the specific_data dataframe.\n",
    "print(specific_data.head(10))"
   ]
  },
  {
   "cell_type": "code",
   "execution_count": null,
   "id": "251a0823",
   "metadata": {},
   "outputs": [],
   "source": [
    "# The “loc” functions use the index name of the row to display the particular row of the dataset. \n",
    "# The “iloc” functions use the index integer of the row, which gives complete information about the row. \n",
    "\n",
    "#here we will use iloc\n",
    "data.iloc[5]"
   ]
  },
  {
   "cell_type": "code",
   "execution_count": null,
   "id": "0f855a76",
   "metadata": {},
   "outputs": [],
   "source": [
    "#it will display records only with variety \"Setosa\".\n",
    "data.loc[data[\"variety\"] == \"Setosa\"]"
   ]
  },
  {
   "cell_type": "code",
   "execution_count": null,
   "id": "1baa776c",
   "metadata": {},
   "outputs": [],
   "source": [
    "# The value_counts() function, counts the number of times a particular instance or data has occurred.\n",
    "\n",
    "#In this dataset we will work on the Species column, it will count number of times a particular species has occurred.\n",
    "data[\"variety\"].value_counts()\n",
    "#it will display in descending order."
   ]
  },
  {
   "cell_type": "code",
   "execution_count": null,
   "id": "86f7c66a",
   "metadata": {},
   "outputs": [],
   "source": [
    "# We can also calculate the sum, mean and mode of any integer columns\n",
    "# data[\"column_name\"].sum()\n",
    "\n",
    "sum_data = data[\"sepal.length\"].sum()\n",
    "mean_data = data[\"sepal.length\"].mean()\n",
    "median_data = data[\"sepal.length\"].median()\n",
    "\n",
    "print(\"Sum:\",sum_data, \"\\nMean:\", mean_data, \"\\nMedian:\",median_data)"
   ]
  },
  {
   "cell_type": "code",
   "execution_count": null,
   "id": "7ccab10f",
   "metadata": {},
   "outputs": [],
   "source": [
    "min_data=data[\"sepal.length\"].min()\n",
    "max_data=data[\"sepal.length\"].max()\n",
    "\n",
    "print(\"Minimum:\",min_data, \"\\nMaximum:\", max_data)"
   ]
  },
  {
   "cell_type": "code",
   "execution_count": null,
   "id": "49fcd182",
   "metadata": {},
   "outputs": [],
   "source": [
    "# Now we will highlight the maximum and minimum column-wise, row-wise,\n",
    "# and the whole dataframe wise using Styler.apply function.\n",
    "# we will here print only the top 10 rows of the dataset,\n",
    "# if you want to see the result of the whole dataset remove\n",
    "#.head(10) from the below code\n",
    "\n",
    "data.head(10).style.highlight_max(color='lightgreen', axis=0)"
   ]
  },
  {
   "cell_type": "code",
   "execution_count": null,
   "id": "908a8de9",
   "metadata": {},
   "outputs": [],
   "source": [
    "data.head(10).style.highlight_max(color='lightgreen', axis=1)"
   ]
  },
  {
   "cell_type": "code",
   "execution_count": null,
   "id": "eede5479",
   "metadata": {},
   "outputs": [],
   "source": [
    "data.head(10).style.highlight_max(color='lightgreen', axis=None)"
   ]
  },
  {
   "cell_type": "code",
   "execution_count": null,
   "id": "70358434",
   "metadata": {},
   "outputs": [],
   "source": [
    "# The heatmap is a data visualisation technique which is used to analyse the dataset as colors in two dimensions. \n",
    "# Basically it shows correlation between all numerical variables in the dataset. \n",
    "# Heatmap is an attribute of the Seaborn library.\n",
    "import seaborn as sns\n",
    "\n",
    "iris = sns.load_dataset(\"iris\")\n",
    "sns.heatmap(iris.corr())"
   ]
  },
  {
   "cell_type": "code",
   "execution_count": null,
   "id": "98a89e46",
   "metadata": {},
   "outputs": [],
   "source": [
    "sns.heatmap(iris.corr(), linecolor = 'white', linewidths = 1, annot = True )"
   ]
  },
  {
   "cell_type": "code",
   "execution_count": null,
   "id": "3d65acbc",
   "metadata": {},
   "outputs": [],
   "source": [
    "# Pair plot is used to visualize the relationship between each type of column variable. \n",
    "# It is implemented only by one line code, which is as follows:\n",
    "g = sns.pairplot(data,hue=\"variety\")"
   ]
  },
  {
   "cell_type": "code",
   "execution_count": null,
   "id": "e53314dd",
   "metadata": {},
   "outputs": [],
   "source": [
    "# Reference: Python – Basics of Pandas using Iris Dataset\n",
    "# https://www.geeksforgeeks.org/python-basics-of-pandas-using-iris-dataset/"
   ]
  }
 ],
 "metadata": {
  "kernelspec": {
   "display_name": "Python 3",
   "language": "python",
   "name": "python3"
  },
  "language_info": {
   "codemirror_mode": {
    "name": "ipython",
    "version": 3
   },
   "file_extension": ".py",
   "mimetype": "text/x-python",
   "name": "python",
   "nbconvert_exporter": "python",
   "pygments_lexer": "ipython3",
   "version": "3.8.8"
  }
 },
 "nbformat": 4,
 "nbformat_minor": 5
}
